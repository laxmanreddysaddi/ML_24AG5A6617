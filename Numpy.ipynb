{
  "cells": [
    {
      "cell_type": "markdown",
      "metadata": {
        "id": "view-in-github",
        "colab_type": "text"
      },
      "source": [
        "<a href=\"https://colab.research.google.com/github/laxmanreddysaddi/ML_24AG5A6617/blob/main/Welcome_To_Colab.ipynb\" target=\"_parent\"><img src=\"https://colab.research.google.com/assets/colab-badge.svg\" alt=\"Open In Colab\"/></a>"
      ]
    },
    {
      "cell_type": "markdown",
      "source": [
        "Introduction to NumPy Framework\n",
        "\n"
      ],
      "metadata": {
        "id": "0gqq-7YXCTJJ"
      }
    },
    {
      "cell_type": "code",
      "source": [
        "import numpy as np"
      ],
      "metadata": {
        "id": "9mR6dFi-Cwz3"
      },
      "execution_count": 1,
      "outputs": []
    },
    {
      "cell_type": "markdown",
      "source": [
        "**1D-Array**"
      ],
      "metadata": {
        "id": "979rmrnDGHOt"
      }
    },
    {
      "cell_type": "code",
      "source": [
        "array1 =np.array([1,3,4,5])\n",
        "print(array1)"
      ],
      "metadata": {
        "colab": {
          "base_uri": "https://localhost:8080/"
        },
        "id": "UhL_1Ph5C5Ze",
        "outputId": "41d373a6-6cb6-4eda-b336-0f805abeebae"
      },
      "execution_count": 2,
      "outputs": [
        {
          "output_type": "stream",
          "name": "stdout",
          "text": [
            "[1 3 4 5]\n"
          ]
        }
      ]
    },
    {
      "cell_type": "markdown",
      "source": [
        "**2D-Array**"
      ],
      "metadata": {
        "id": "ALmZUtbCGOzY"
      }
    },
    {
      "cell_type": "code",
      "source": [
        "array2=np.array([[2,4 ,5,6],[3,7,8,9]])\n",
        "print(array2)"
      ],
      "metadata": {
        "colab": {
          "base_uri": "https://localhost:8080/"
        },
        "id": "QlwSRFZFDQlh",
        "outputId": "280cea05-fedf-4429-e9dd-fb14efe782e7"
      },
      "execution_count": 3,
      "outputs": [
        {
          "output_type": "stream",
          "name": "stdout",
          "text": [
            "[[2 4 5 6]\n",
            " [3 7 8 9]]\n"
          ]
        }
      ]
    },
    {
      "cell_type": "code",
      "source": [
        "array3=np.array([[1,3,4,5],[3,6,7,8],[5,6,7,8]])\n",
        "print(array3)"
      ],
      "metadata": {
        "colab": {
          "base_uri": "https://localhost:8080/"
        },
        "id": "i9C2iXPXDjSB",
        "outputId": "dd10e0d3-d72f-42be-da09-cdb151d37277"
      },
      "execution_count": 4,
      "outputs": [
        {
          "output_type": "stream",
          "name": "stdout",
          "text": [
            "[[1 3 4 5]\n",
            " [3 6 7 8]\n",
            " [5 6 7 8]]\n"
          ]
        }
      ]
    },
    {
      "cell_type": "markdown",
      "source": [
        "**3D-Array**"
      ],
      "metadata": {
        "id": "EHS6Eez0MNnF"
      }
    },
    {
      "cell_type": "code",
      "source": [
        "array4=np.array([[[1,2,3],\n",
        "                  [2,3,4],\n",
        "                   [4,5,6]],\n",
        "\n",
        "                 [[5,6,7],\n",
        "                  [6,7,8],\n",
        "                  [7,8,9]]])\n",
        "print(array4)"
      ],
      "metadata": {
        "colab": {
          "base_uri": "https://localhost:8080/"
        },
        "id": "DwQQkHz3FPkY",
        "outputId": "04211f62-5d1a-4042-d6fb-ed9cf44101e4"
      },
      "execution_count": 7,
      "outputs": [
        {
          "output_type": "stream",
          "name": "stdout",
          "text": [
            "[[[1 2 3]\n",
            "  [2 3 4]\n",
            "  [4 5 6]]\n",
            "\n",
            " [[5 6 7]\n",
            "  [6 7 8]\n",
            "  [7 8 9]]]\n"
          ]
        }
      ]
    },
    {
      "cell_type": "markdown",
      "source": [
        "**Datatype of Numpy Array**"
      ],
      "metadata": {
        "id": "xdiA3ML-GaPw"
      }
    },
    {
      "cell_type": "code",
      "source": [
        "print(array1.dtype)"
      ],
      "metadata": {
        "colab": {
          "base_uri": "https://localhost:8080/"
        },
        "id": "-UrXQXIcGqaS",
        "outputId": "a33cfb2c-f2aa-4a42-9ef0-498dbb09cec4"
      },
      "execution_count": 8,
      "outputs": [
        {
          "output_type": "stream",
          "name": "stdout",
          "text": [
            "int64\n"
          ]
        }
      ]
    },
    {
      "cell_type": "markdown",
      "source": [
        "**Size of NumpyArray**"
      ],
      "metadata": {
        "id": "PrsWyPMKG2f3"
      }
    },
    {
      "cell_type": "code",
      "source": [
        "print(array2.size)\n",
        "print(array3.size)"
      ],
      "metadata": {
        "colab": {
          "base_uri": "https://localhost:8080/"
        },
        "id": "KjnMreiUF5x1",
        "outputId": "c427b98f-c281-4f4f-96d9-82526b0c7de8"
      },
      "execution_count": 10,
      "outputs": [
        {
          "output_type": "stream",
          "name": "stdout",
          "text": [
            "8\n",
            "12\n"
          ]
        }
      ]
    },
    {
      "cell_type": "markdown",
      "source": [
        "**Dimension of Numpy Array**"
      ],
      "metadata": {
        "id": "CNvdtROPHUIo"
      }
    },
    {
      "cell_type": "code",
      "source": [
        "print(array4.ndim)"
      ],
      "metadata": {
        "colab": {
          "base_uri": "https://localhost:8080/"
        },
        "id": "IVkKmQTkHaSF",
        "outputId": "c868eeec-61ab-40b4-e861-6ff034690b76"
      },
      "execution_count": 12,
      "outputs": [
        {
          "output_type": "stream",
          "name": "stdout",
          "text": [
            "3\n"
          ]
        }
      ]
    },
    {
      "cell_type": "markdown",
      "source": [
        "**Numpy array shape attribute**"
      ],
      "metadata": {
        "id": "vChtVQYYH4FO"
      }
    },
    {
      "cell_type": "code",
      "source": [
        "print(array2.shape)\n",
        "print(array4.shape)"
      ],
      "metadata": {
        "colab": {
          "base_uri": "https://localhost:8080/"
        },
        "id": "b3nhhOFqH3mn",
        "outputId": "18da2761-a001-4c86-9a8a-d0f0a7628204"
      },
      "execution_count": 13,
      "outputs": [
        {
          "output_type": "stream",
          "name": "stdout",
          "text": [
            "(2, 4)\n",
            "(2, 3, 3)\n"
          ]
        }
      ]
    },
    {
      "cell_type": "markdown",
      "source": [
        "**Numpy array itemsize attribute**"
      ],
      "metadata": {
        "id": "_36sJ1gyIqWR"
      }
    },
    {
      "cell_type": "code",
      "source": [
        "array5=np.array([[2,3,4,5],[3,5,6,7]])\n",
        "print(array5.itemsize)"
      ],
      "metadata": {
        "colab": {
          "base_uri": "https://localhost:8080/"
        },
        "id": "SdjdoXMgIvpe",
        "outputId": "5398ed15-dfdf-48cd-a4b4-085b2c7ebc56"
      },
      "execution_count": 14,
      "outputs": [
        {
          "output_type": "stream",
          "name": "stdout",
          "text": [
            "8\n"
          ]
        }
      ]
    },
    {
      "cell_type": "markdown",
      "source": [
        "**Numpy array data attribute**"
      ],
      "metadata": {
        "id": "lcB7hFkVJRfR"
      }
    },
    {
      "cell_type": "code",
      "source": [
        "array=np.array([[1,3,4,5],[3,5,6,7]])\n",
        "array1=np.array([[2,4,5,6],[5,6,77,7],[7,8,9,9]])\n",
        "print(array.data)\n",
        "print(array1.data)"
      ],
      "metadata": {
        "colab": {
          "base_uri": "https://localhost:8080/"
        },
        "id": "4R2qkNR5JZMx",
        "outputId": "b47c4f53-a9a9-4c4d-d661-eae64a47d718"
      },
      "execution_count": 15,
      "outputs": [
        {
          "output_type": "stream",
          "name": "stdout",
          "text": [
            "<memory at 0x7eb99de0b6b0>\n",
            "<memory at 0x7eb99de0b6b0>\n"
          ]
        }
      ]
    },
    {
      "cell_type": "markdown",
      "source": [
        "**Access Array Elements using index**"
      ],
      "metadata": {
        "id": "-xJOCpYVKD16"
      }
    },
    {
      "cell_type": "code",
      "source": [
        "array=np.array([3,4,6,7,8,9])\n",
        "print(array[2])\n",
        "print(array[5])\n",
        "print(array[0])"
      ],
      "metadata": {
        "colab": {
          "base_uri": "https://localhost:8080/"
        },
        "id": "CVxsJDFnKVVt",
        "outputId": "e4584bc1-f186-4969-c4ea-624373327cc6"
      },
      "execution_count": 16,
      "outputs": [
        {
          "output_type": "stream",
          "name": "stdout",
          "text": [
            "6\n",
            "9\n",
            "3\n"
          ]
        }
      ]
    },
    {
      "cell_type": "markdown",
      "source": [
        "**Modify Array using index**"
      ],
      "metadata": {
        "id": "0w4EYuOSLDd7"
      }
    },
    {
      "cell_type": "code",
      "source": [
        "array=np.array([3,5,6,7])\n",
        "array[2]=9\n",
        "print(array)"
      ],
      "metadata": {
        "colab": {
          "base_uri": "https://localhost:8080/"
        },
        "id": "K-WJ-h-WLKv9",
        "outputId": "7362453f-4efd-4c7f-f27d-6f17fc3e8544"
      },
      "execution_count": 17,
      "outputs": [
        {
          "output_type": "stream",
          "name": "stdout",
          "text": [
            "[3 5 9 7]\n"
          ]
        }
      ]
    },
    {
      "cell_type": "markdown",
      "source": [
        "**2D  Numpy Array indexing**"
      ],
      "metadata": {
        "id": "onbH9GE9Maj9"
      }
    },
    {
      "cell_type": "code",
      "source": [
        "array=np.array([[2,4,5,7],[6,8,9,1]])\n",
        "print(\"3rd element at 1st row:\",array[1,3] )\n",
        "print(\"2nd element at 0st row:\",array[0,2] )"
      ],
      "metadata": {
        "colab": {
          "base_uri": "https://localhost:8080/"
        },
        "id": "6FGS61VNMu9i",
        "outputId": "8c1eeead-3727-44f0-b160-bcc5c193f677"
      },
      "execution_count": 20,
      "outputs": [
        {
          "output_type": "stream",
          "name": "stdout",
          "text": [
            "3rd element at 1st row: 1\n",
            "2nd element at 0st row: 5\n"
          ]
        }
      ]
    },
    {
      "cell_type": "markdown",
      "source": [
        "**Numpy Statistics**"
      ],
      "metadata": {
        "id": "YyMZFebENnKR"
      }
    },
    {
      "cell_type": "code",
      "source": [
        "array=np.array([2,5,6,7])\n",
        "median=np.median(array)\n",
        "print(median)"
      ],
      "metadata": {
        "colab": {
          "base_uri": "https://localhost:8080/"
        },
        "id": "CjtdgNnFNzZh",
        "outputId": "3b66ab6b-0273-4485-eb9e-0230f6676fa7"
      },
      "execution_count": 21,
      "outputs": [
        {
          "output_type": "stream",
          "name": "stdout",
          "text": [
            "5.5\n"
          ]
        }
      ]
    },
    {
      "cell_type": "code",
      "source": [
        "array=np.array([2,5,4,7])\n",
        "mean=np.mean(array)\n",
        "print(mean)"
      ],
      "metadata": {
        "colab": {
          "base_uri": "https://localhost:8080/"
        },
        "id": "VwjYy7SyO1iC",
        "outputId": "7d4ea1a8-8085-4fca-e2e4-47bac13c2514"
      },
      "execution_count": 25,
      "outputs": [
        {
          "output_type": "stream",
          "name": "stdout",
          "text": [
            "4.5\n"
          ]
        }
      ]
    },
    {
      "cell_type": "code",
      "source": [
        "array=np.array([2,6,8,9])\n",
        "min=np.min(array)\n",
        "print(min)"
      ],
      "metadata": {
        "colab": {
          "base_uri": "https://localhost:8080/"
        },
        "id": "6FYClJBgO_l0",
        "outputId": "91211b54-9543-489d-fbf0-234ab20a9c28"
      },
      "execution_count": 26,
      "outputs": [
        {
          "output_type": "stream",
          "name": "stdout",
          "text": [
            "2\n"
          ]
        }
      ]
    },
    {
      "cell_type": "code",
      "source": [
        "array=np.array([2,5,6,7])\n",
        "max=np.max(array)\n",
        "print(max)"
      ],
      "metadata": {
        "colab": {
          "base_uri": "https://localhost:8080/"
        },
        "id": "83qu_w0LPUxT",
        "outputId": "7eddeceb-d343-4bfb-cf83-4606307ee2a1"
      },
      "execution_count": 27,
      "outputs": [
        {
          "output_type": "stream",
          "name": "stdout",
          "text": [
            "7\n"
          ]
        }
      ]
    },
    {
      "cell_type": "code",
      "source": [
        "marks=np.array([28,57,65,73])\n",
        "std=np.std(marks)\n",
        "print(std)"
      ],
      "metadata": {
        "colab": {
          "base_uri": "https://localhost:8080/"
        },
        "id": "eqqlf0fyPiND",
        "outputId": "aab643ec-b876-49f7-bba2-d5077a3db00c"
      },
      "execution_count": 28,
      "outputs": [
        {
          "output_type": "stream",
          "name": "stdout",
          "text": [
            "16.990806337546196\n"
          ]
        }
      ]
    },
    {
      "cell_type": "code",
      "source": [
        "marks=np.array([28,57,65,73])\n",
        "percentile=np.percentile(marks,50)\n",
        "print(percentile)"
      ],
      "metadata": {
        "colab": {
          "base_uri": "https://localhost:8080/"
        },
        "id": "-QBV_hg5P08J",
        "outputId": "a521c6c9-1a21-4bdd-838f-a693f88ad109"
      },
      "execution_count": 29,
      "outputs": [
        {
          "output_type": "stream",
          "name": "stdout",
          "text": [
            "61.0\n"
          ]
        }
      ]
    }
  ],
  "metadata": {
    "colab": {
      "name": "Welcome To Colab",
      "toc_visible": true,
      "provenance": [],
      "include_colab_link": true
    },
    "kernelspec": {
      "display_name": "Python 3",
      "name": "python3"
    }
  },
  "nbformat": 4,
  "nbformat_minor": 0
}
